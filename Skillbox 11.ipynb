{
 "cells": [
  {
   "cell_type": "code",
   "execution_count": 6,
   "metadata": {
    "scrolled": true
   },
   "outputs": [
    {
     "name": "stdout",
     "output_type": "stream",
     "text": [
      "0\t-1\t-2\t-3\t-4\t-5\t-6\t-7\t-8\t-9\t\n",
      "1\t0\t-1\t-2\t-3\t-4\t-5\t-6\t-7\t-8\t\n",
      "2\t1\t0\t-1\t-2\t-3\t-4\t-5\t-6\t-7\t\n",
      "3\t2\t1\t0\t-1\t-2\t-3\t-4\t-5\t-6\t\n",
      "4\t3\t2\t1\t0\t-1\t-2\t-3\t-4\t-5\t\n",
      "5\t4\t3\t2\t1\t0\t-1\t-2\t-3\t-4\t\n",
      "6\t5\t4\t3\t2\t1\t0\t-1\t-2\t-3\t\n",
      "7\t6\t5\t4\t3\t2\t1\t0\t-1\t-2\t\n",
      "8\t7\t6\t5\t4\t3\t2\t1\t0\t-1\t\n",
      "9\t8\t7\t6\t5\t4\t3\t2\t1\t0\t\n"
     ]
    }
   ],
   "source": [
    "for z in range(-10,0,1):\n",
    "    for h in range(10,0,-1):\n",
    "        print(z+h, end = \"\\t\")\n",
    "    print()"
   ]
  },
  {
   "cell_type": "code",
   "execution_count": 2,
   "metadata": {},
   "outputs": [
    {
     "name": "stdout",
     "output_type": "stream",
     "text": [
      "5\n",
      "1 2 3 4 5 \n",
      "2 2 2 2 2 \n",
      "1 2 3 4 5 \n",
      "4 4 4 4 4 \n",
      "1 2 3 4 5 \n"
     ]
    }
   ],
   "source": [
    "question = int(input())\n",
    "for row in range(1,question+1):\n",
    "    for col in range(1,question+1): \n",
    "        if row % 2 ==0:\n",
    "            print(row, end = \" \")\n",
    "        else:\n",
    "            print(col, end = \" \")\n",
    "    print()"
   ]
  },
  {
   "cell_type": "code",
   "execution_count": 36,
   "metadata": {},
   "outputs": [
    {
     "name": "stdout",
     "output_type": "stream",
     "text": [
      "3\n",
      "1 1 3 \n",
      "2 2 3 \n",
      "3 3 3 \n"
     ]
    }
   ],
   "source": [
    "question = int(input())\n",
    "for row in range(1,question+1):\n",
    "    for col in range(1,question+1):\n",
    "        if col % 3 == 0:\n",
    "            print(col, end = \" \")\n",
    "        else:\n",
    "            print(row , end = \" \") \n",
    "    print()"
   ]
  },
  {
   "cell_type": "code",
   "execution_count": 49,
   "metadata": {},
   "outputs": [
    {
     "name": "stdout",
     "output_type": "stream",
     "text": [
      "                        |                         \n",
      "                        |                         \n",
      "                        |                         \n",
      "                        |                         \n",
      "                        |                         \n",
      "                        |                         \n",
      "                        |                         \n",
      "                        |                         \n",
      "                        |                         \n",
      "------------------------|-------------------------\n",
      "                        |                         \n",
      "                        |                         \n",
      "                        |                         \n",
      "                        |                         \n",
      "                        |                         \n",
      "                        |                         \n",
      "                        |                         \n",
      "                        |                         \n",
      "                        |                         \n",
      "                        |                         \n"
     ]
    }
   ],
   "source": [
    "for row in range(20):\n",
    "    for col in range(50):\n",
    "        if col == 24:\n",
    "            print(\"|\", end = \"\")\n",
    "        elif row == 9:\n",
    "            print(\"-\", end = \"\")\n",
    "        else:\n",
    "            print(\" \", end = \"\") \n",
    "    print()"
   ]
  },
  {
   "cell_type": "code",
   "execution_count": 2,
   "metadata": {},
   "outputs": [
    {
     "name": "stdout",
     "output_type": "stream",
     "text": [
      "5\n",
      "1 0 0 0 0 \n",
      "2 1 0 0 0 \n",
      "2 2 1 0 0 \n",
      "2 2 2 1 0 \n",
      "2 2 2 2 1 \n"
     ]
    }
   ],
   "source": [
    "size = int(input())\n",
    "for row in range (size):\n",
    "    for col in range(size):\n",
    "        if row<col: \n",
    "            print(0, end = \" \")\n",
    "        elif row > col:\n",
    "            print(2, end = \" \")\n",
    "        else:\n",
    "            print(1, end = \" \")\n",
    "    print()"
   ]
  },
  {
   "cell_type": "code",
   "execution_count": 79,
   "metadata": {},
   "outputs": [
    {
     "name": "stdout",
     "output_type": "stream",
     "text": [
      "                   /    |    \\                    \n",
      "                  /     |     \\                   \n",
      "                 /      |      \\                  \n",
      "                /       |       \\                 \n",
      "               /        |        \\                \n",
      "              /         |         \\               \n",
      "             /          |          \\              \n",
      "            /           |           \\             \n",
      "           /            |            \\            \n",
      "----------/-------------|-------------\\-----------\n",
      "         /              |              \\          \n",
      "        /               |               \\         \n",
      "       /                |                \\        \n",
      "      /                 |                 \\       \n",
      "     /                  |                  \\      \n",
      "    /                   |                   \\     \n",
      "   /                    |                    \\    \n",
      "  /                     |                     \\   \n",
      " /                      |                      \\  \n",
      "/                       |                       \\ \n"
     ]
    }
   ],
   "source": [
    "for row in range(20):\n",
    "    for col in range(50):\n",
    "        if col == 24:\n",
    "            print(\"|\", end = \"\")\n",
    "        elif col == row  + 29:\n",
    "            print(\"\\\\\", end = \"\")\n",
    "        elif col == -row + 19:\n",
    "            print(\"/\", end = \"\")\n",
    "        elif row == 9:\n",
    "            print(\"-\", end = \"\")\n",
    "        else:\n",
    "            print(\" \", end = \"\") \n",
    "    print()\n"
   ]
  },
  {
   "cell_type": "code",
   "execution_count": 21,
   "metadata": {},
   "outputs": [
    {
     "name": "stdout",
     "output_type": "stream",
     "text": [
      "------------------------------\n",
      "|                            |\n",
      "|                            |\n",
      "|                            |\n",
      "|                            |\n",
      "|                            |\n",
      "|                            |\n",
      "|                            |\n",
      "|                            |\n",
      "|                            |\n",
      "|                            |\n",
      "|                            |\n",
      "|                            |\n",
      "|                            |\n",
      "|                            |\n",
      "|                            |\n",
      "|                            |\n",
      "|                            |\n",
      "|                            |\n",
      "|                            |\n"
     ]
    }
   ],
   "source": [
    "\n",
    "for line in range(20):\n",
    "    for col in range(30):\n",
    "        if line == 0:\n",
    "            print(\"-\", end = \"\")\n",
    "        elif col == 0 or col == 29:\n",
    "            print(\"|\", end = \"\")\n",
    "        else: \n",
    "            print(\" \", end = \"\")\n",
    "    print()"
   ]
  },
  {
   "cell_type": "code",
   "execution_count": 75,
   "metadata": {},
   "outputs": [
    {
     "name": "stdout",
     "output_type": "stream",
     "text": [
      "5\n",
      "0 0 0 0 1 \n",
      "0 0 0 1 2 \n",
      "0 0 1 2 2 \n",
      "0 1 2 2 2 \n",
      "1 2 2 2 2 \n"
     ]
    }
   ],
   "source": [
    "size = int(input())\n",
    "for row in range (size):\n",
    "    for col in range(size-1,-1,-1):\n",
    "        if row<col: \n",
    "            print(0, end = \" \")\n",
    "        elif row > col:\n",
    "            print(2, end = \" \")\n",
    "        else:\n",
    "            print(1, end = \" \")\n",
    "        #print(col, end = \" \")\n",
    "    print()\n",
    "    "
   ]
  },
  {
   "cell_type": "code",
   "execution_count": 10,
   "metadata": {},
   "outputs": [
    {
     "name": "stdout",
     "output_type": "stream",
     "text": [
      "5\n",
      "час 0\n",
      "номер в очереди 0\n",
      "0 номер в очереди 1\n",
      "1 номер в очереди 2\n",
      "2 номер в очереди 3\n",
      "3 номер в очереди 4\n",
      "4 \n",
      "час 1\n",
      "номер в очереди 1\n",
      "1 номер в очереди 2\n",
      "2 номер в очереди 3\n",
      "3 номер в очереди 4\n",
      "4 \n",
      "час 2\n",
      "номер в очереди 2\n",
      "2 номер в очереди 3\n",
      "3 номер в очереди 4\n",
      "4 \n",
      "час 3\n",
      "номер в очереди 3\n",
      "3 номер в очереди 4\n",
      "4 \n",
      "час 4\n",
      "номер в очереди 4\n",
      "4 \n",
      "час 5\n",
      "\n",
      " очередь обслужена\n"
     ]
    }
   ],
   "source": [
    "people = int(input())\n",
    "for hour in range (people+1):\n",
    "    print(\"час\", hour)\n",
    "    for num in range(hour, people): \n",
    "        print(\"номер в очереди\", num)\n",
    "        print(num, end = \" \")\n",
    "    print()\n",
    "print(\" очередь обслужена\")"
   ]
  },
  {
   "cell_type": "code",
   "execution_count": 92,
   "metadata": {},
   "outputs": [
    {
     "name": "stdout",
     "output_type": "stream",
     "text": [
      "Сколько будет чисел: 4\n",
      "Как цифру считать: 3\n",
      "Введите 0 число:16\n",
      "Введите 1 число:17\n",
      "Введите 2 число:18\n",
      "Введите 3 число:19\n",
      "Цифр 3 в последовательности 4\n"
     ]
    }
   ],
   "source": [
    "seqnum = int(input(\"Сколько будет чисел: \"))\n",
    "numeral = int(input(\"Как цифру считать: \"))\n",
    "while numeral < 0 or numeral > 9:\n",
    "    numeral = int(input(\"Цифра должна быть в диапазоне от 0 до 9! Введите новую цифру: \"))\n",
    "numeralcount = 0 \n",
    "for num in range (seqnum): \n",
    "    print(\"Введите\", num, \"число:\", end = \"\")\n",
    "    number = int(input())\n",
    "    while number > 0: \n",
    "        if number%10 == numeral:\n",
    "            numeralcount+=1\n",
    "        number //= 10\n",
    "print(\"Цифр\",numeral, \"в последовательности\" ,numeralcount)"
   ]
  },
  {
   "cell_type": "code",
   "execution_count": 93,
   "metadata": {},
   "outputs": [
    {
     "name": "stdout",
     "output_type": "stream",
     "text": [
      "Сколько будет чисел: 5\n",
      "Введите 0 число:1256\n",
      "Введите 1 число:12257\n",
      "Введите 2 число:33\n",
      "Введите 3 число:32\n",
      "Введите 4 число:5\n",
      "цифр больше 5:  2\n"
     ]
    }
   ],
   "source": [
    "seqnum = int(input(\"Сколько будет чисел: \"))\n",
    "numeralcount = 0 \n",
    "for num in range (seqnum): \n",
    "    print(\"Введите\", num, \"число:\", end = \"\")\n",
    "    number = int(input())\n",
    "    while number > 0: \n",
    "        if number%10 > 5:\n",
    "            numeralcount+=1\n",
    "        number //= 10\n",
    "print(\"цифр больше 5: \" ,numeralcount)"
   ]
  },
  {
   "cell_type": "code",
   "execution_count": 103,
   "metadata": {},
   "outputs": [
    {
     "name": "stdout",
     "output_type": "stream",
     "text": [
      "5\n",
      "0  1  2  3  4  5  \n",
      "1  2  3  4  5  \n",
      "2  3  4  5  \n",
      "3  4  5  \n",
      "4  5  \n",
      "5  \n"
     ]
    }
   ],
   "source": [
    "size = int(input())\n",
    "for row in range (size+1):\n",
    "    for col in range(row, size+1):\n",
    "        print(col, end = \"  \")\n",
    "    print()"
   ]
  },
  {
   "cell_type": "code",
   "execution_count": 9,
   "metadata": {},
   "outputs": [
    {
     "name": "stdout",
     "output_type": "stream",
     "text": [
      "0\t2\t4\t6\t8\t10\t\n",
      "1\t3\t5\t7\t9\t11\t\n",
      "2\t4\t6\t8\t10\t12\t\n",
      "3\t5\t7\t9\t11\t13\t\n",
      "4\t6\t8\t10\t12\t14\t\n",
      "5\t7\t9\t11\t13\t15\t\n"
     ]
    }
   ],
   "source": [
    "###Задание 1\n",
    "for z in range(0,6,1):\n",
    "    for h in range(0,12,2):\n",
    "        print(z+h, end = \"\\t\")\n",
    "    print()"
   ]
  },
  {
   "cell_type": "code",
   "execution_count": 36,
   "metadata": {},
   "outputs": [
    {
     "name": "stdout",
     "output_type": "stream",
     "text": [
      "5\n",
      "1 \n",
      "2 2 \n",
      "3 3 3 \n",
      "4 4 4 4 \n",
      "5 5 5 5 5 \n"
     ]
    }
   ],
   "source": [
    "#задание 2 \n",
    "question = int(input('Введите число'))\n",
    "for row in range(1,question+1):\n",
    "    for col in range(0,question+1):\n",
    "        if row>col:\n",
    "            print(row, end = \" \")\n",
    "    print()"
   ]
  },
  {
   "cell_type": "markdown",
   "metadata": {},
   "source": [
    "1 1 1 1 1 \n",
    "2 2 2 2 2 \n",
    "3 3 3 3 3 \n",
    "4 4 4 4 4 \n",
    "5 5 5 5 5 \n",
    "\n",
    "1 2 3 4 5 \n",
    "1 2 3 4 5 \n",
    "1 2 3 4 5 \n",
    "1 2 3 4 5 \n",
    "1 2 3 4 5 \n"
   ]
  },
  {
   "cell_type": "code",
   "execution_count": 57,
   "metadata": {},
   "outputs": [
    {
     "name": "stdout",
     "output_type": "stream",
     "text": [
      "Введите колличество строк: 20\n",
      "Введите колличтсво столбцов: 50\n",
      "|------------------------------------------------|\n",
      "|                                                |\n",
      "|                                                |\n",
      "|                                                |\n",
      "|                                                |\n",
      "|                                                |\n",
      "|                                                |\n",
      "|                                                |\n",
      "|                                                |\n",
      "|                                                |\n",
      "|                                                |\n",
      "|                                                |\n",
      "|                                                |\n",
      "|                                                |\n",
      "|                                                |\n",
      "|                                                |\n",
      "|                                                |\n",
      "|                                                |\n",
      "|                                                |\n",
      "|------------------------------------------------|\n"
     ]
    }
   ],
   "source": [
    "#Задание 3\n",
    "quwstionLine = int(input(\"Введите колличество строк: \"))\n",
    "questionCol = int(input(\"Введите колличтсво столбцов: \"))\n",
    "for line in range(quwstionLine):\n",
    "    for col in range(questionCol):\n",
    "        if col == 0 or col == questionCol-1:\n",
    "            print(\"|\", end = \"\")\n",
    "        elif line == 0 or line == quwstionLine-1:\n",
    "            print(\"-\", end = \"\")\n",
    "        else: \n",
    "            print(\" \", end = \"\")\n",
    "    print()"
   ]
  },
  {
   "cell_type": "code",
   "execution_count": 150,
   "metadata": {
    "scrolled": true
   },
   "outputs": [
    {
     "name": "stdout",
     "output_type": "stream",
     "text": [
      "^                  ^\n",
      " ^                ^ \n",
      "  ^              ^  \n",
      "   ^            ^   \n",
      "    ^          ^    \n",
      "     ^        ^     \n",
      "      ^      ^      \n",
      "       ^    ^       \n",
      "        ^  ^        \n",
      "         ^^         \n",
      "         ^^         \n",
      "        ^  ^        \n",
      "       ^    ^       \n",
      "      ^      ^      \n",
      "     ^        ^     \n",
      "    ^          ^    \n",
      "   ^            ^   \n",
      "  ^              ^  \n",
      " ^                ^ \n",
      "^                  ^\n"
     ]
    }
   ],
   "source": [
    "#Задание 4\n",
    "for row in range(20):\n",
    "    for col in range(20):\n",
    "        if col == row:\n",
    "            print(\"^\", end = \"\")\n",
    "        elif col == -row + 19:\n",
    "            print(\"^\", end = \"\")\n",
    "        else:\n",
    "            print(\" \", end = \"\") \n",
    "    print()"
   ]
  },
  {
   "cell_type": "code",
   "execution_count": 69,
   "metadata": {},
   "outputs": [
    {
     "name": "stdout",
     "output_type": "stream",
     "text": [
      "Сколько чисел будем проверять? 3\n",
      "Введите 1-е число: 211\n",
      "Введите 2-е число: 345\n",
      "Введите 3-е число: 54\n",
      "\n",
      "В вашей последовательности  1  простых чисел\n"
     ]
    }
   ],
   "source": [
    "#Задание 5, извиняюсь за такое решение( Сам решить не смог \n",
    "def is_prime(n):\n",
    "    sqrt = n ** 0.5\n",
    "    stop = int(sqrt + (sqrt % 1 > 0))\n",
    "\n",
    "    for k in range(2, stop):\n",
    "        if (n % k == 0):\n",
    "            return False\n",
    "\n",
    "    return True\n",
    "\n",
    "n = int(input('Сколько чисел будем проверять? '))\n",
    "count = 0\n",
    "\n",
    "for k in range(n):\n",
    "    number = int( input(f'Введите {k + 1}-е число: ') )\n",
    "    if (is_prime(number)): count += 1\n",
    "\n",
    "print()\n",
    "print('В вашей последовательности ', count, ' простых чисел')"
   ]
  },
  {
   "cell_type": "code",
   "execution_count": 78,
   "metadata": {},
   "outputs": [
    {
     "name": "stdout",
     "output_type": "stream",
     "text": [
      "3\n",
      "9\n"
     ]
    }
   ],
   "source": [
    "#Задача 6\n",
    "n=int(input())\n",
    "f=1\n",
    "s=0\n",
    "for i in range(1,n+1):\n",
    "    f=f*i\n",
    "    s=s+f\n",
    "   \n",
    "print(s)"
   ]
  },
  {
   "cell_type": "code",
   "execution_count": 234,
   "metadata": {},
   "outputs": [
    {
     "name": "stdout",
     "output_type": "stream",
     "text": [
      "5\n",
      "    #\n",
      "   ###\n",
      "  #####\n",
      " #######\n",
      "#########\n"
     ]
    }
   ],
   "source": [
    "#Задача 7 \n",
    "x = int(input())\n",
    "k = 1\n",
    "for i in range(x):\n",
    "    print(' '*(x-1-i),'#'*k, sep='')\n",
    "    k += 2"
   ]
  },
  {
   "cell_type": "code",
   "execution_count": 262,
   "metadata": {},
   "outputs": [
    {
     "name": "stdout",
     "output_type": "stream",
     "text": [
      "34523\n",
      "3245\n",
      "0\n",
      "Число 34523 имеет максимальную сумму цифр: 17\n"
     ]
    }
   ],
   "source": [
    "#Задача 8 для остановки введите 0\n",
    "n = int(input())\n",
    "max_s = 0\n",
    "max_m = 0\n",
    "while n != 0:\n",
    "    m = n\n",
    "    s = 0\n",
    "    while n>0:\n",
    "        s += n%10\n",
    "        n //= 10\n",
    "    if s > max_s:\n",
    "        max_s = s\n",
    "        max_m = m\n",
    "    n = int(input())\n",
    "print('Число',max_m,'имеет максимальную сумму цифр:', max_s)\n"
   ]
  },
  {
   "cell_type": "code",
   "execution_count": 268,
   "metadata": {},
   "outputs": [
    {
     "name": "stdout",
     "output_type": "stream",
     "text": [
      "13\n",
      "                                      1   \n",
      "                                   3     5   \n",
      "                                7     9    11   \n",
      "                            13    15    17    19   \n",
      "                         21    23    25    27    29   \n",
      "                      31    33    35    37    39    41   \n",
      "                   43    45    47    49    51    53    55   \n",
      "                57    59    61    63    65    67    69    71   \n",
      "             73    75    77    79    81    83    85    87    89   \n",
      "          91    93    95    97    99   101   103   105   107   109   \n",
      "      111   113   115   117   119   121   123   125   127   129   131   \n",
      "   133   135   137   139   141   143   145   147   149   151   153   155   \n",
      "157   159   161   163   165   167   169   171   173   175   177   179   181   \n"
     ]
    }
   ],
   "source": [
    "#Задача 9\n",
    "n,x = int(input()), 1\n",
    "z = \" \" * len(str((n + 1)* n - 1))\n",
    "for i in range (1, n + 1): \n",
    "    print(z * (n - i),end = \"\")\n",
    "    for j in range(i): \n",
    "        print((\"{:\" + str(len(z)) + \"}\").format(x), end = z)\n",
    "        x+=2\n",
    "    print()"
   ]
  },
  {
   "cell_type": "code",
   "execution_count": 269,
   "metadata": {},
   "outputs": [
    {
     "name": "stdout",
     "output_type": "stream",
     "text": [
      "5\n",
      "5........5\n",
      "54......45\n",
      "543....345\n",
      "5432..2345\n",
      "5432112345\n"
     ]
    }
   ],
   "source": [
    "#Задача 10 \n",
    "for i in range(1, (n := int(input())) + 1):\n",
    "     s = ''\n",
    "     for j in range(n, n - i, -1):\n",
    "          s += str(j)\n",
    "     print(s + '.' * (n * 2 - i * 2) + s[::-1])"
   ]
  },
  {
   "cell_type": "code",
   "execution_count": null,
   "metadata": {},
   "outputs": [],
   "source": []
  }
 ],
 "metadata": {
  "kernelspec": {
   "display_name": "Python 3",
   "language": "python",
   "name": "python3"
  },
  "language_info": {
   "codemirror_mode": {
    "name": "ipython",
    "version": 3
   },
   "file_extension": ".py",
   "mimetype": "text/x-python",
   "name": "python",
   "nbconvert_exporter": "python",
   "pygments_lexer": "ipython3",
   "version": "3.8.5"
  }
 },
 "nbformat": 4,
 "nbformat_minor": 4
}
