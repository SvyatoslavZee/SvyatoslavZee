{
 "cells": [
  {
   "cell_type": "code",
   "execution_count": 17,
   "metadata": {},
   "outputs": [
    {
     "name": "stdout",
     "output_type": "stream",
     "text": [
      "---------- \n",
      "|00000000|\n",
      "|00000000|\n",
      "|00000000|\n",
      "|00000000|\n",
      "----------\n"
     ]
    }
   ],
   "source": [
    "number1 = ( 10 * \"-\" )\n",
    "number = ( \"\\n|\" + 8* \"0\" + \"|\")\n",
    "print(number1, number * 4 + \"\\n\" +number1)"
   ]
  },
  {
   "cell_type": "code",
   "execution_count": 87,
   "metadata": {},
   "outputs": [
    {
     "name": "stdout",
     "output_type": "stream",
     "text": [
      "Введите число: 50\n",
      "\n",
      "-=- 0 -=- 10 -=- 20 -=- 30 -=- 40 -=- 50 -=- "
     ]
    }
   ],
   "source": [
    "n = int(input(\"Введите число: \"))\n",
    "x = \" -=- \"\n",
    "print(\"\\n-=-\", end = \" \")\n",
    "for summa in range (1-1,n+1,10):\n",
    "    print(summa, end = x)"
   ]
  },
  {
   "cell_type": "code",
   "execution_count": 89,
   "metadata": {},
   "outputs": [
    {
     "name": "stdout",
     "output_type": "stream",
     "text": [
      "Введите первое число: 5\n",
      "Введите разность: 3\n",
      "5.8.11.33\n"
     ]
    }
   ],
   "source": [
    "ferst_number = int(input(\"Введите первое число: \"))\n",
    "difference = int(input('Введите разность: '))\n",
    "number = 0\n",
    "for count in range(3): \n",
    "    print(ferst_number, end = \".\")\n",
    "    ferst_number += difference\n",
    "    number += ferst_number\n",
    "print(number)"
   ]
  },
  {
   "cell_type": "code",
   "execution_count": 68,
   "metadata": {},
   "outputs": [
    {
     "name": "stdout",
     "output_type": "stream",
     "text": [
      "Введите текст: при19вет\n",
      "Отфильтрованный текст привет\n",
      "Сумма: 10\n"
     ]
    }
   ],
   "source": [
    "text = input(\"Введите текст: \")\n",
    "summ = 0\n",
    "print(\"Отфильтрованный текст\", end = \" \")\n",
    "for symbol in text: \n",
    "    if symbol == \"1\" or symbol == \"9\": \n",
    "        summ += int(symbol)\n",
    "    else: \n",
    "        print(symbol, end = \"\")\n",
    "print(\"\\nСумма:\",summ)"
   ]
  },
  {
   "cell_type": "code",
   "execution_count": 118,
   "metadata": {},
   "outputs": [
    {
     "name": "stdout",
     "output_type": "stream",
     "text": [
      "Введите день недели: среда\n",
      "Номер дня недели:  3\n"
     ]
    }
   ],
   "source": [
    "### Задние 1, не сообразил как сделать защиту от дурака(((\n",
    "day = input(\"Введите день недели: \")\n",
    "all_day = (\"понедельник\",\"вторник\",\"среда\",\"четверг\",\"пятница\",\"суббота\",\"воскресенье\")\n",
    "number = 0\n",
    "for word in all_day:\n",
    "    number += 1\n",
    "    if word == day:\n",
    "        break     \n",
    "print(\"Номер дня недели: \",number)\n",
    "    "
   ]
  },
  {
   "cell_type": "code",
   "execution_count": 125,
   "metadata": {},
   "outputs": [
    {
     "name": "stdout",
     "output_type": "stream",
     "text": [
      "крикни пират: Карамба\n",
      "крикни пират: Карамба\n",
      "крикни пират: \n",
      "крикни пират: Карамба\n",
      "крикни пират: Карамба\n",
      "крикни пират: Карамба\n",
      "крикни пират: Карамба\n",
      "крикни пират: Карамба\n",
      "крикни пират: Карамба\n",
      "крикни пират: Карамба\n",
      "Из 10 человек на борт попадет:  9\n"
     ]
    }
   ],
   "source": [
    "## Задание 2 \n",
    "main_word = \"Карамба\"\n",
    "number = 0 \n",
    "for word in range(10):\n",
    "    question = input(\"крикни пират: \")\n",
    "    if question == main_word:\n",
    "        number+=1\n",
    "print(\"Из 10 человек на борт попадет: \",number)"
   ]
  },
  {
   "cell_type": "code",
   "execution_count": 134,
   "metadata": {},
   "outputs": [
    {
     "name": "stdout",
     "output_type": "stream",
     "text": [
      "Введите текст: Приве*т как дела\n",
      "Символ ‘*’ стоит на позиции 6\n"
     ]
    }
   ],
   "source": [
    "## Задание 3\n",
    "text = input(\"Введите текст: \")\n",
    "summ = 0\n",
    "for symbol in text: \n",
    "    summ += 1\n",
    "    if symbol == \"*\":\n",
    "         break\n",
    "print(\"Символ ‘*’ стоит на позиции\",summ)"
   ]
  },
  {
   "cell_type": "code",
   "execution_count": 180,
   "metadata": {},
   "outputs": [
    {
     "name": "stdout",
     "output_type": "stream",
     "text": [
      "Введите кол-во рядов: 5\n",
      "Введите кол-во сидений в ряде: 7\n",
      "Введите кол-во метров между рядами: 3\n",
      "Сцена\n",
      "======= *** =======\n",
      "======= *** =======\n",
      "======= *** =======\n",
      "======= *** =======\n",
      "======= *** =======\n"
     ]
    }
   ],
   "source": [
    "### Задание 4 \n",
    "row = int(input(\"Введите кол-во рядов: \"))\n",
    "seating = int(input(\"Введите кол-во сидений в ряде: \"))\n",
    "meters = int(input(\"Введите кол-во метров между рядами: \"))\n",
    "print(\"Сцена\")\n",
    "for pik in range(row):\n",
    "    print(\"=\" * seating, \"*\" * meters,\"=\" * seating)"
   ]
  },
  {
   "cell_type": "code",
   "execution_count": 179,
   "metadata": {},
   "outputs": [
    {
     "name": "stdout",
     "output_type": "stream",
     "text": [
      "w\n",
      "Марсоход находится на позиции 8 11 введите команду:\n",
      "w\n",
      "Марсоход находится на позиции 8 12 введите команду:\n",
      "w\n",
      "Марсоход находится на позиции 8 13 введите команду:\n",
      "a\n",
      "Марсоход находится на позиции 7 13 введите команду:\n",
      "d\n",
      "Марсоход находится на позиции 8 13 введите команду:\n",
      "s\n",
      "Марсоход находится на позиции 8 12 введите команду:\n",
      "s\n",
      "Марсоход находится на позиции 8 11 введите команду:\n",
      "stop\n",
      "Программа остановленна\n"
     ]
    }
   ],
   "source": [
    "###Задание 5\n",
    "square = 10\n",
    "square_2 = 8\n",
    "while square != 25:\n",
    "    action = input()\n",
    "    if action == \"w\" or action == \"W\":\n",
    "        square += 1\n",
    "    if square == 21:\n",
    "        square -=1\n",
    "    if action == \"s\" or action == \"S\":\n",
    "        square -= 1\n",
    "    if square == -1:\n",
    "        square += 1\n",
    "    if action == \"a\" or action == \"A\":\n",
    "        square_2 -= 1\n",
    "    if square_2 == -1:\n",
    "        square_2 += 1\n",
    "    if action == \"d\" or action == \"D\":\n",
    "        square_2 += 1\n",
    "    if square_2 == 16:\n",
    "        square_2 -= 1\n",
    "    if action == \"stop\":\n",
    "        print(\"Программа остановленна\")\n",
    "        break\n",
    "    print(\"Марсоход находится на позиции\",square_2,square, \"введите команду:\")"
   ]
  },
  {
   "cell_type": "code",
   "execution_count": 202,
   "metadata": {},
   "outputs": [
    {
     "name": "stdout",
     "output_type": "stream",
     "text": [
      "Введите строку: ssbbbsssbcssssssbb\n",
      "Самая длинная последовательность:  6\n"
     ]
    }
   ],
   "source": [
    "##Признаюсь взято с интернета, не смог сообразить как посчитать/ Задание 6\n",
    "text = input('Введите строку: ')\n",
    "text += ''\n",
    "count_s = 0\n",
    "letter = 0\n",
    "\n",
    "for symbol in text:\n",
    "    if symbol == 's':\n",
    "        letter += 1\n",
    "    else:\n",
    "        if letter > count_s:\n",
    "            count_s = letter\n",
    "            letter = 0\n",
    "print('Самая длинная последовательность: ', count_s)\n"
   ]
  },
  {
   "cell_type": "code",
   "execution_count": 45,
   "metadata": {},
   "outputs": [
    {
     "name": "stdout",
     "output_type": "stream",
     "text": [
      "Введите текст: Меня зовут Петр\n",
      "Большее слово: Петр\n",
      "Кол-во символов: 4\n"
     ]
    }
   ],
   "source": [
    "###Задание 7 \n",
    "text = input(\"Введите текст: \")\n",
    "word = ''\n",
    "higher_number = 0\n",
    "bigger_word = ''\n",
    "for symbol in text+\" \":\n",
    "    if symbol == ' ':\n",
    "        if len(word) > higher_number:\n",
    "            bigger_word = word\n",
    "        word = ''\n",
    "    else:\n",
    "        word += symbol\n",
    "print (\"Большее слово:\", bigger_word)\n",
    "print (\"Кол-во символов:\", len(bigger_word))"
   ]
  },
  {
   "cell_type": "code",
   "execution_count": 71,
   "metadata": {},
   "outputs": [
    {
     "name": "stdout",
     "output_type": "stream",
     "text": [
      "Введите кол-во символов: 23 \n",
      "Введите кол-во восклицательных знаков: 8\n",
      "~~~~~~~!!!!!!!!~~~~~~~ "
     ]
    }
   ],
   "source": [
    "###Задание 8 \n",
    "summ_symb = int(input(\"Введите кол-во символов: \"))\n",
    "summ_exclamation = int(input(\"Введите кол-во восклицательных знаков: \"))\n",
    "if summ_symb >  summ_exclamation:\n",
    "        number3 = summ_symb-summ_exclamation\n",
    "        number2 = number3//2\n",
    "        print(number2*\"~\"+summ_exclamation*\"!\"+number2*\"~\", end = \" \")\n",
    "else:\n",
    "    print(\"Восклицательных знаков больше чем кол-ва символов, поэтому:\",summ_exclamation*\"!\") "
   ]
  },
  {
   "cell_type": "code",
   "execution_count": 76,
   "metadata": {},
   "outputs": [
    {
     "name": "stdout",
     "output_type": "stream",
     "text": [
      "a\n",
      "a\n",
      "a\n",
      "a\n",
      "a\n",
      "a\n",
      "a\n",
      "a\n",
      "a\n",
      "b\n",
      "20\n"
     ]
    }
   ],
   "source": [
    "###задание 9 \n",
    "answer = input()\n",
    "number = 0\n",
    "for symbol in answer:\n",
    "    if symbol == \"a\":\n",
    "    for count in range(2,20+1,2): \n",
    "        if answer == \"b\": \n",
    "            number+=count\n",
    "        if answer == \"a\":\n",
    "            number+=0\n",
    "print(number)"
   ]
  },
  {
   "cell_type": "code",
   "execution_count": 77,
   "metadata": {},
   "outputs": [
    {
     "name": "stdout",
     "output_type": "stream",
     "text": [
      "shacnidw\n",
      "sandwich\n"
     ]
    }
   ],
   "source": [
    "###задание 10 Из интернета \n",
    "s, h, t = input(), '', ''\n",
    "for i in range(len(s)):\n",
    "    if i % 2: t = s[i] + t\n",
    "    else: h += s[i]\n",
    "print(h + t)"
   ]
  },
  {
   "cell_type": "code",
   "execution_count": null,
   "metadata": {},
   "outputs": [],
   "source": []
  }
 ],
 "metadata": {
  "kernelspec": {
   "display_name": "Python 3",
   "language": "python",
   "name": "python3"
  },
  "language_info": {
   "codemirror_mode": {
    "name": "ipython",
    "version": 3
   },
   "file_extension": ".py",
   "mimetype": "text/x-python",
   "name": "python",
   "nbconvert_exporter": "python",
   "pygments_lexer": "ipython3",
   "version": "3.8.5"
  }
 },
 "nbformat": 4,
 "nbformat_minor": 4
}
